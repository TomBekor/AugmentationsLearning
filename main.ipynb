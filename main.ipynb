{
 "cells": [
  {
   "cell_type": "code",
   "execution_count": 1,
   "metadata": {},
   "outputs": [],
   "source": [
    "import os\n",
    "import glob\n",
    "\n",
    "import numpy as np\n",
    "\n",
    "import torch\n",
    "import torch.nn as nn\n",
    "import torch.nn.functional as F\n",
    "import torch.optim as optim\n",
    "from torch.nn.parameter import Parameter\n",
    "from torch.nn import ParameterDict\n",
    "\n",
    "import torchvision\n",
    "from torchvision import transforms\n",
    "\n",
    "import kornia as K\n",
    "import cv2\n",
    "\n",
    "import matplotlib.pyplot as plt\n",
    "from PIL import Image\n",
    "\n",
    "from AugmentationsDataset import *\n",
    "\n",
    "from kAugmentations.kRotation import *\n",
    "from kAugmentations.kBrightness import *\n",
    "from kAugmentations.kShearX import *\n",
    "from kAugmentations.kTranslateX import *\n",
    "from kAugmentations.kContrast import *\n",
    "\n",
    "\n",
    "\n",
    "from utils import plot_tensor, show_sample, learning_grid, create_loss_map"
   ]
  },
  {
   "cell_type": "markdown",
   "metadata": {},
   "source": [
    "### Configs"
   ]
  },
  {
   "cell_type": "markdown",
   "metadata": {},
   "source": [
    "#### Brightness"
   ]
  },
  {
   "cell_type": "code",
   "execution_count": 2,
   "metadata": {},
   "outputs": [],
   "source": [
    "# ### --- Config --- ###\n",
    "# augmentation_name = 'brightness'\n",
    "# main_parameter_name = 'brightness_factor'\n",
    "# aug_bounds = (0.0, 1.0)\n",
    "# param_linspace = np.linspace(aug_bounds[0],aug_bounds[1],400)\n",
    "\n",
    "# # dataset\n",
    "# target_param_val = .5\n",
    "# target_aug_constructor = K.enhance.AdjustBrightness\n",
    "# target_aug_constructor_args = {\n",
    "#     'brightness_factor': target_param_val,\n",
    "# }\n",
    "\n",
    "# kAugmentation = kBrightness\n",
    "# init_param_val = 0.\n",
    "\n",
    "# # training\n",
    "# criterion_constructor = nn.MSELoss\n",
    "# criterion_constructor_args = {}\n",
    "\n",
    "# batch_size = 64\n",
    "# epochs = 1\n",
    "\n",
    "# optimizer_constructor = optim.SGD\n",
    "# optimizer_constructor_args = {\n",
    "#     'lr': 0.01,\n",
    "#     'momentum': 0.9,\n",
    "# }\n",
    "\n",
    "# scheduler_constructor = optim.lr_scheduler.CosineAnnealingLR\n",
    "# scheduler_constructor_args = {\n",
    "#     'T_max':100,\n",
    "#     'eta_min':0.1,\n",
    "#     'verbose':True,\n",
    "# }\n",
    "\n",
    "# scheduler_warmup = 100\n",
    "# scheduler_freq = 10\n",
    "# use_scheduler=False\n",
    "\n",
    "# early_stopping = 500\n",
    "\n",
    "# device = torch.device('cuda:0' if torch.cuda.is_available() else 'cpu')\n",
    "\n",
    "\n",
    "# # paths:\n",
    "# run_name = f'{augmentation_name}-init-{init_param_val}_target-{target_param_val}'\n",
    "\n",
    "# figures_dir = f'figures'\n",
    "# run_figures_dir = f'{figures_dir}/{run_name}'\n",
    "\n",
    "# gifs_dir = f'gifs'\n",
    "# run_gif_name = f'{gifs_dir}/{run_name}.gif'\n",
    "\n",
    "# os.makedirs(run_figures_dir, exist_ok=True)\n",
    "# os.makedirs(gifs_dir, exist_ok=True)\n",
    "# os.makedirs(f'{run_figures_dir}/results', exist_ok=True)\n",
    "# os.makedirs(f'{run_figures_dir}/learning_progress', exist_ok=True)\n"
   ]
  },
  {
   "cell_type": "markdown",
   "metadata": {},
   "source": [
    "#### Rotation"
   ]
  },
  {
   "cell_type": "code",
   "execution_count": 3,
   "metadata": {},
   "outputs": [],
   "source": [
    "# ### --- Config --- ###\n",
    "# augmentation_name = 'rotation'\n",
    "# main_parameter_name = 'angle'\n",
    "# aug_bounds = (-360., 360.)\n",
    "# param_linspace = np.linspace(aug_bounds[0],aug_bounds[1],400)\n",
    "\n",
    "# # dataset\n",
    "# target_param_val = 100.\n",
    "# target_aug_constructor = K.geometry.transform.Rotate\n",
    "# target_aug_constructor_args = {\n",
    "#     'angle': torch.Tensor([target_param_val])\n",
    "# }\n",
    "\n",
    "# kAugmentation = kRotation\n",
    "# init_param_val = 0.0\n",
    "\n",
    "# # training\n",
    "# criterion_constructor = nn.MSELoss\n",
    "# criterion_constructor_args = {}\n",
    "\n",
    "# batch_size = 64\n",
    "# epochs = 1\n",
    "\n",
    "# optimizer_constructor = optim.SGD\n",
    "# optimizer_constructor_args = {\n",
    "#     'lr': 50,\n",
    "#     'momentum': 0.99,\n",
    "# }\n",
    "\n",
    "# scheduler_constructor = optim.lr_scheduler.CosineAnnealingLR\n",
    "# scheduler_constructor_args = {\n",
    "#     'T_max':100,\n",
    "#     'eta_min':0.1,\n",
    "#     'verbose':True,\n",
    "# }\n",
    "\n",
    "# scheduler_warmup = 100\n",
    "# scheduler_freq = 10\n",
    "# use_scheduler=True\n",
    "\n",
    "# early_stopping = 500\n",
    "\n",
    "# device = torch.device('cuda:0' if torch.cuda.is_available() else 'cpu')\n",
    "\n",
    "\n",
    "# # paths:\n",
    "# run_name = f'{augmentation_name}-init-{init_param_val}_target-{target_param_val}'\n",
    "\n",
    "# figures_dir = f'figures'\n",
    "# run_figures_dir = f'{figures_dir}/{run_name}'\n",
    "\n",
    "# gifs_dir = f'gifs'\n",
    "# run_gif_name = f'{gifs_dir}/{run_name}.gif'\n",
    "\n",
    "# os.makedirs(run_figures_dir, exist_ok=True)\n",
    "# os.makedirs(gifs_dir, exist_ok=True)\n",
    "# os.makedirs(f'{run_figures_dir}/results', exist_ok=True)\n",
    "# os.makedirs(f'{run_figures_dir}/learning_progress', exist_ok=True)"
   ]
  },
  {
   "cell_type": "markdown",
   "metadata": {},
   "source": [
    "#### ShearX"
   ]
  },
  {
   "cell_type": "code",
   "execution_count": 4,
   "metadata": {},
   "outputs": [],
   "source": [
    "# ### --- Config --- ###\n",
    "# augmentation_name = 'shearX'\n",
    "# main_parameter_name = 'shear'\n",
    "# aug_bounds = (None, None)\n",
    "# param_linspace = np.linspace(-2,2,400)\n",
    "\n",
    "# # dataset\n",
    "# target_param_val = 0.4\n",
    "# target_aug_constructor = K.geometry.transform.Shear\n",
    "# target_aug_constructor_args = {\n",
    "#     'shear': torch.Tensor([[target_param_val, 0]]),\n",
    "# }\n",
    "\n",
    "# kAugmentation = kShearX\n",
    "# init_param_val = 0.0\n",
    "\n",
    "# # training\n",
    "# criterion_constructor = nn.MSELoss\n",
    "# criterion_constructor_args = {}\n",
    "\n",
    "# batch_size = 64\n",
    "# epochs = 1\n",
    "\n",
    "# optimizer_constructor = optim.SGD\n",
    "# optimizer_constructor_args = {\n",
    "#     'lr': 0.1,\n",
    "#     'momentum': 0.9,\n",
    "# }\n",
    "\n",
    "# scheduler_constructor = optim.lr_scheduler.CosineAnnealingLR\n",
    "# scheduler_constructor_args = {\n",
    "#     'T_max':200,\n",
    "#     'eta_min':0.1,\n",
    "#     'verbose':True,\n",
    "# }\n",
    "\n",
    "# use_scheduler=True\n",
    "# scheduler_warmup = 100\n",
    "# scheduler_freq = 10\n",
    "\n",
    "\n",
    "# early_stopping = 500\n",
    "\n",
    "# device = torch.device('cuda:0' if torch.cuda.is_available() else 'cpu')\n",
    "\n",
    "\n",
    "# # paths:\n",
    "# run_name = f'{augmentation_name}-init-{init_param_val}_target-{target_param_val}'\n",
    "\n",
    "# figures_dir = f'figures'\n",
    "# run_figures_dir = f'{figures_dir}/{run_name}'\n",
    "\n",
    "# gifs_dir = f'gifs'\n",
    "# run_gif_name = f'{gifs_dir}/{run_name}.gif'\n",
    "\n",
    "# os.makedirs(run_figures_dir, exist_ok=True)\n",
    "# os.makedirs(gifs_dir, exist_ok=True)\n",
    "# os.makedirs(f'{run_figures_dir}/results', exist_ok=True)\n",
    "# os.makedirs(f'{run_figures_dir}/learning_progress', exist_ok=True)"
   ]
  },
  {
   "cell_type": "markdown",
   "metadata": {},
   "source": [
    "#### TranslateX"
   ]
  },
  {
   "cell_type": "code",
   "execution_count": 5,
   "metadata": {},
   "outputs": [],
   "source": [
    "# ### --- Config --- ###\n",
    "# augmentation_name = 'translateX'\n",
    "# main_parameter_name = 'translation'\n",
    "# aug_bounds = (None, None)\n",
    "# param_linspace = np.linspace(-100,100,400)\n",
    "\n",
    "# # dataset\n",
    "# target_param_val = 20.0\n",
    "# target_aug_constructor = K.geometry.transform.Translate\n",
    "# target_aug_constructor_args = {\n",
    "#     'translation': torch.Tensor([[target_param_val, 0]]),\n",
    "# }\n",
    "\n",
    "# kAugmentation = kTranslateX\n",
    "# init_param_val = 0.0\n",
    "\n",
    "# # training\n",
    "# criterion_constructor = nn.MSELoss\n",
    "# criterion_constructor_args = {}\n",
    "\n",
    "# batch_size = 64\n",
    "# epochs = 1\n",
    "\n",
    "# optimizer_constructor = optim.SGD\n",
    "# optimizer_constructor_args = {\n",
    "#     'lr': 100,\n",
    "#     'momentum': 0.7,\n",
    "# }\n",
    "\n",
    "# scheduler_constructor = optim.lr_scheduler.CosineAnnealingLR\n",
    "# scheduler_constructor_args = {\n",
    "#     'T_max':200,\n",
    "#     'eta_min':0.1,\n",
    "#     'verbose':True,\n",
    "# }\n",
    "\n",
    "# use_scheduler=True\n",
    "# scheduler_warmup = 0\n",
    "# scheduler_freq = 10\n",
    "\n",
    "\n",
    "# early_stopping = 250\n",
    "\n",
    "# device = torch.device('cuda:0' if torch.cuda.is_available() else 'cpu')\n",
    "\n",
    "\n",
    "# # paths:\n",
    "# run_name = f'{augmentation_name}-init-{init_param_val}_target-{target_param_val}'\n",
    "\n",
    "# figures_dir = f'figures'\n",
    "# run_figures_dir = f'{figures_dir}/{run_name}'\n",
    "\n",
    "# gifs_dir = f'gifs'\n",
    "# run_gif_name = f'{gifs_dir}/{run_name}.gif'\n",
    "\n",
    "# os.makedirs(run_figures_dir, exist_ok=True)\n",
    "# os.makedirs(gifs_dir, exist_ok=True)\n",
    "# os.makedirs(f'{run_figures_dir}/results', exist_ok=True)\n",
    "# os.makedirs(f'{run_figures_dir}/learning_progress', exist_ok=True)"
   ]
  },
  {
   "cell_type": "markdown",
   "metadata": {},
   "source": [
    "#### Contrast"
   ]
  },
  {
   "cell_type": "code",
   "execution_count": 6,
   "metadata": {},
   "outputs": [],
   "source": [
    "### --- Config --- ###\n",
    "augmentation_name = 'contrast'\n",
    "main_parameter_name = 'contrast_factor'\n",
    "aug_bounds = (0.0, None)\n",
    "param_linspace = np.linspace(0.0,10.,400)\n",
    "\n",
    "# dataset\n",
    "target_param_val = 3.\n",
    "target_aug_constructor = K.enhance.AdjustContrast\n",
    "target_aug_constructor_args = {\n",
    "    'contrast_factor': target_param_val,\n",
    "}\n",
    "\n",
    "kAugmentation = kContrast\n",
    "init_param_val = 1.\n",
    "\n",
    "# training\n",
    "criterion_constructor = nn.MSELoss\n",
    "criterion_constructor_args = {}\n",
    "\n",
    "batch_size = 64\n",
    "epochs = 1\n",
    "\n",
    "optimizer_constructor = optim.SGD\n",
    "optimizer_constructor_args = {\n",
    "    'lr': 0.1,\n",
    "    'momentum': 0.9,\n",
    "}\n",
    "\n",
    "scheduler_constructor = optim.lr_scheduler.CosineAnnealingLR\n",
    "scheduler_constructor_args = {\n",
    "    'T_max':100,\n",
    "    'eta_min':0.1,\n",
    "    'verbose':True,\n",
    "}\n",
    "\n",
    "scheduler_warmup = 100\n",
    "scheduler_freq = 10\n",
    "use_scheduler=False\n",
    "\n",
    "early_stopping = 500\n",
    "\n",
    "device = torch.device('cuda:0' if torch.cuda.is_available() else 'cpu')\n",
    "\n",
    "\n",
    "# paths:\n",
    "run_name = f'{augmentation_name}-init-{init_param_val}_target-{target_param_val}'\n",
    "\n",
    "figures_dir = f'figures'\n",
    "run_figures_dir = f'{figures_dir}/{run_name}'\n",
    "\n",
    "gifs_dir = f'gifs'\n",
    "run_gif_name = f'{gifs_dir}/{run_name}.gif'\n",
    "\n",
    "os.makedirs(run_figures_dir, exist_ok=True)\n",
    "os.makedirs(gifs_dir, exist_ok=True)\n",
    "os.makedirs(f'{run_figures_dir}/results', exist_ok=True)\n",
    "os.makedirs(f'{run_figures_dir}/learning_progress', exist_ok=True)"
   ]
  },
  {
   "cell_type": "markdown",
   "metadata": {},
   "source": [
    "### Training:"
   ]
  },
  {
   "cell_type": "code",
   "execution_count": 7,
   "metadata": {},
   "outputs": [],
   "source": [
    "source_transform = transforms.Compose([\n",
    "    transforms.ToTensor()\n",
    "])\n",
    "\n",
    "target_augmentations = transforms.Compose([\n",
    "    K.augmentation.container.ImageSequential(\n",
    "        target_aug_constructor(**target_aug_constructor_args)\n",
    "    )\n",
    "])\n",
    "\n",
    "target_transform = transforms.Compose([\n",
    "    # transforms.ToTensor(),\n",
    "    target_augmentations\n",
    "])"
   ]
  },
  {
   "cell_type": "code",
   "execution_count": 8,
   "metadata": {},
   "outputs": [],
   "source": [
    "glob_path = '../data/tiny-imagenet-200/train/*/images/*'\n",
    "dataset = AugmentationsDataset(glob_path,\n",
    "                               source_transform, target_transform,)"
   ]
  },
  {
   "cell_type": "code",
   "execution_count": 9,
   "metadata": {},
   "outputs": [
    {
     "data": {
      "image/png": "[encoded data removed]",
      "text/plain": [
       "<Figure size 432x288 with 1 Axes>"
      ]
     },
     "metadata": {
      "needs_background": "light"
     },
     "output_type": "display_data"
    }
   ],
   "source": [
    "show_sample(dataset[0])"
   ]
  },
  {
   "cell_type": "code",
   "execution_count": 10,
   "metadata": {},
   "outputs": [],
   "source": [
    "dataloader = torch.utils.data.DataLoader(dataset, batch_size=batch_size,\n",
    "                                         shuffle=True)"
   ]
  },
  {
   "cell_type": "code",
   "execution_count": 11,
   "metadata": {},
   "outputs": [
    {
     "data": {
      "text/plain": [
       "ImageSequential(\n",
       "  (kContrast_0): kContrast()\n",
       ")"
      ]
     },
     "execution_count": 11,
     "metadata": {},
     "output_type": "execute_result"
    }
   ],
   "source": [
    "model = K.augmentation.ImageSequential(\n",
    "    kAugmentation(init_param=init_param_val)\n",
    ")\n",
    "model.to(device)"
   ]
  },
  {
   "cell_type": "code",
   "execution_count": 12,
   "metadata": {},
   "outputs": [
    {
     "name": "stdout",
     "output_type": "stream",
     "text": [
      "kContrast_0.trans_param tensor([1.], device='cuda:0')\n"
     ]
    }
   ],
   "source": [
    "for name, param in model.named_parameters():\n",
    "    if param.requires_grad:\n",
    "        print(name, param.data)"
   ]
  },
  {
   "cell_type": "code",
   "execution_count": 13,
   "metadata": {},
   "outputs": [
    {
     "name": "stdout",
     "output_type": "stream",
     "text": [
      "Adjusting learning rate of group 0 to 1.0000e-01.\n"
     ]
    }
   ],
   "source": [
    "criterion = criterion_constructor(**criterion_constructor_args)\n",
    "optimizer = optimizer_constructor(model.parameters(), **optimizer_constructor_args)\n",
    "scheduler = scheduler_constructor(optimizer, **scheduler_constructor_args)"
   ]
  },
  {
   "cell_type": "code",
   "execution_count": 14,
   "metadata": {},
   "outputs": [],
   "source": [
    "with torch.no_grad():\n",
    "    img_dict = {\n",
    "        \"source\": dataset[0][0],\n",
    "        \"model's output\": model(dataset[0][0].unsqueeze(0).to(device)).squeeze(),\n",
    "        \"target\": dataset[0][1]\n",
    "    }\n",
    "    learning_grid(img_dict, save=f'{run_figures_dir}/learning_progress/epoch-{0:02}_batch-{0:05}.png')\n",
    "    \n",
    "param_progress = []\n",
    "param_progress.append(model[0].get_param_val())"
   ]
  },
  {
   "cell_type": "code",
   "execution_count": 15,
   "metadata": {},
   "outputs": [
    {
     "name": "stdout",
     "output_type": "stream",
     "text": [
      "[Epoch: 1 | Batch: 10 | MSE Loss: 0.097 | contrast_factor: 1.894325852394104]\n",
      "[Epoch: 1 | Batch: 20 | MSE Loss: 0.011 | contrast_factor: 2.681375503540039]\n",
      "[Epoch: 1 | Batch: 30 | MSE Loss: 0.000 | contrast_factor: 3.0291192531585693]\n",
      "[Epoch: 1 | Batch: 40 | MSE Loss: 0.000 | contrast_factor: 3.1461822986602783]\n",
      "[Epoch: 1 | Batch: 50 | MSE Loss: 0.000 | contrast_factor: 3.163728713989258]\n",
      "[Epoch: 1 | Batch: 60 | MSE Loss: 0.000 | contrast_factor: 3.1440508365631104]\n",
      "[Epoch: 1 | Batch: 70 | MSE Loss: 0.000 | contrast_factor: 3.113982915878296]\n",
      "[Epoch: 1 | Batch: 80 | MSE Loss: 0.000 | contrast_factor: 3.084697723388672]\n",
      "[Epoch: 1 | Batch: 90 | MSE Loss: 0.000 | contrast_factor: 3.0598747730255127]\n",
      "[Epoch: 1 | Batch: 100 | MSE Loss: 0.000 | contrast_factor: 3.040778160095215]\n",
      "[Epoch: 1 | Batch: 110 | MSE Loss: 0.000 | contrast_factor: 3.026947021484375]\n",
      "[Epoch: 1 | Batch: 120 | MSE Loss: 0.000 | contrast_factor: 3.0173075199127197]\n",
      "[Epoch: 1 | Batch: 130 | MSE Loss: 0.000 | contrast_factor: 3.010857582092285]\n",
      "[Epoch: 1 | Batch: 140 | MSE Loss: 0.000 | contrast_factor: 3.006685972213745]\n",
      "[Epoch: 1 | Batch: 150 | MSE Loss: 0.000 | contrast_factor: 3.004040241241455]\n",
      "[Epoch: 1 | Batch: 160 | MSE Loss: 0.000 | contrast_factor: 3.002401351928711]\n",
      "[Epoch: 1 | Batch: 170 | MSE Loss: 0.000 | contrast_factor: 3.001396894454956]\n",
      "[Epoch: 1 | Batch: 180 | MSE Loss: 0.000 | contrast_factor: 3.000791549682617]\n",
      "[Epoch: 1 | Batch: 190 | MSE Loss: 0.000 | contrast_factor: 3.0004358291625977]\n",
      "[Epoch: 1 | Batch: 200 | MSE Loss: 0.000 | contrast_factor: 3.0002334117889404]\n",
      "[Epoch: 1 | Batch: 210 | MSE Loss: 0.000 | contrast_factor: 3.000120162963867]\n",
      "[Epoch: 1 | Batch: 220 | MSE Loss: 0.000 | contrast_factor: 3.00005841255188]\n",
      "[Epoch: 1 | Batch: 230 | MSE Loss: 0.000 | contrast_factor: 3.000025987625122]\n",
      "[Epoch: 1 | Batch: 240 | MSE Loss: 0.000 | contrast_factor: 3.0000102519989014]\n",
      "[Epoch: 1 | Batch: 250 | MSE Loss: 0.000 | contrast_factor: 3.0000030994415283]\n",
      "[Epoch: 1 | Batch: 260 | MSE Loss: 0.000 | contrast_factor: 3.0]\n",
      "[Epoch: 1 | Batch: 270 | MSE Loss: 0.000 | contrast_factor: 2.9999990463256836]\n",
      "[Epoch: 1 | Batch: 280 | MSE Loss: 0.000 | contrast_factor: 2.9999990463256836]\n",
      "[Epoch: 1 | Batch: 290 | MSE Loss: 0.000 | contrast_factor: 2.9999990463256836]\n",
      "[Epoch: 1 | Batch: 300 | MSE Loss: 0.000 | contrast_factor: 2.9999990463256836]\n",
      "[Epoch: 1 | Batch: 310 | MSE Loss: 0.000 | contrast_factor: 2.9999990463256836]\n",
      "[Epoch: 1 | Batch: 320 | MSE Loss: 0.000 | contrast_factor: 2.9999990463256836]\n",
      "[Epoch: 1 | Batch: 330 | MSE Loss: 0.000 | contrast_factor: 2.9999990463256836]\n",
      "[Epoch: 1 | Batch: 340 | MSE Loss: 0.000 | contrast_factor: 2.9999990463256836]\n",
      "[Epoch: 1 | Batch: 350 | MSE Loss: 0.000 | contrast_factor: 2.9999990463256836]\n",
      "[Epoch: 1 | Batch: 360 | MSE Loss: 0.000 | contrast_factor: 2.9999990463256836]\n",
      "[Epoch: 1 | Batch: 370 | MSE Loss: 0.000 | contrast_factor: 2.9999990463256836]\n",
      "[Epoch: 1 | Batch: 380 | MSE Loss: 0.000 | contrast_factor: 2.9999990463256836]\n",
      "[Epoch: 1 | Batch: 390 | MSE Loss: 0.000 | contrast_factor: 2.9999990463256836]\n",
      "[Epoch: 1 | Batch: 400 | MSE Loss: 0.000 | contrast_factor: 2.9999990463256836]\n",
      "[Epoch: 1 | Batch: 410 | MSE Loss: 0.000 | contrast_factor: 2.9999990463256836]\n",
      "[Epoch: 1 | Batch: 420 | MSE Loss: 0.000 | contrast_factor: 2.9999990463256836]\n",
      "[Epoch: 1 | Batch: 430 | MSE Loss: 0.000 | contrast_factor: 2.9999990463256836]\n",
      "[Epoch: 1 | Batch: 440 | MSE Loss: 0.000 | contrast_factor: 2.9999990463256836]\n",
      "[Epoch: 1 | Batch: 450 | MSE Loss: 0.000 | contrast_factor: 2.9999990463256836]\n",
      "[Epoch: 1 | Batch: 460 | MSE Loss: 0.000 | contrast_factor: 2.9999990463256836]\n",
      "[Epoch: 1 | Batch: 470 | MSE Loss: 0.000 | contrast_factor: 2.9999990463256836]\n",
      "[Epoch: 1 | Batch: 480 | MSE Loss: 0.000 | contrast_factor: 2.9999990463256836]\n",
      "[Epoch: 1 | Batch: 490 | MSE Loss: 0.000 | contrast_factor: 2.9999990463256836]\n",
      "[Epoch: 1 | Batch: 500 | MSE Loss: 0.000 | contrast_factor: 2.9999990463256836]\n",
      "Finished Training.\n"
     ]
    }
   ],
   "source": [
    "losses = []\n",
    "lrs = []\n",
    "for epoch in range(epochs):\n",
    "\n",
    "    running_loss = 0.0\n",
    "    for i, data in enumerate(dataloader):\n",
    "        source_images, target_images = data\n",
    "        source_images, target_images = source_images.to(device), target_images.to(device)\n",
    "        \n",
    "        optimizer.zero_grad()\n",
    "\n",
    "        output_images = model(source_images)\n",
    "        loss = criterion(output_images, target_images)\n",
    "        loss.backward()\n",
    "        optimizer.step()\n",
    "\n",
    "        losses.append(loss.item())\n",
    "        running_loss += loss.item()\n",
    "        print_every = 10\n",
    "        if i % print_every == print_every - 1:\n",
    "            print(f'[Epoch: {epoch+1} | Batch: {i+1} | MSE Loss: {running_loss/print_every:.3f} | ', end='')\n",
    "            print(f'{main_parameter_name}: {model[0].get_param_val()}]')\n",
    "            running_loss = 0.0\n",
    "\n",
    "            with torch.no_grad():\n",
    "                img_dict = {\n",
    "                    \"source\": dataset[0][0],\n",
    "                    \"model's output\": model(dataset[0][0].unsqueeze(0).to(device)).squeeze(),\n",
    "                    \"target\": dataset[0][1]\n",
    "                }\n",
    "                learning_grid(img_dict, save=f'{run_figures_dir}/learning_progress/epoch-{epoch+1:02}_batch-{i+1:05}.png')\n",
    "        \n",
    "        lrs.append(scheduler.get_last_lr())\n",
    "        param_progress.append(model[0].get_param_val())\n",
    "        if use_scheduler:\n",
    "            if i % scheduler_freq == scheduler_freq - 1 and i > scheduler_warmup:\n",
    "                scheduler.step()\n",
    "\n",
    "\n",
    "        if i == early_stopping:\n",
    "            break\n",
    "\n",
    "print('Finished Training.')"
   ]
  },
  {
   "cell_type": "code",
   "execution_count": 16,
   "metadata": {},
   "outputs": [
    {
     "data": {
      "image/png": "[encoded data removed]",
      "text/plain": [
       "<Figure size 432x288 with 1 Axes>"
      ]
     },
     "metadata": {
      "needs_background": "light"
     },
     "output_type": "display_data"
    }
   ],
   "source": [
    "plt.plot(param_progress, zorder=7)\n",
    "plt.hlines(y=target_param_val, xmin=0, xmax=[len(param_progress)], color='r',zorder=5)\n",
    "plt.xlabel('iteration')\n",
    "plt.ylabel(f'{main_parameter_name}')\n",
    "plt.title('Parameter progress')\n",
    "plt.savefig(f'{run_figures_dir}/results/parameter_progress__{main_parameter_name}.png')"
   ]
  },
  {
   "cell_type": "code",
   "execution_count": 17,
   "metadata": {},
   "outputs": [
    {
     "data": {
      "image/png": "[encoded data removed]",
      "text/plain": [
       "<Figure size 432x288 with 1 Axes>"
      ]
     },
     "metadata": {
      "needs_background": "light"
     },
     "output_type": "display_data"
    }
   ],
   "source": [
    "plt.plot(losses)\n",
    "plt.title('Training loss')\n",
    "plt.xlabel('iteration')\n",
    "plt.ylabel('loss')\n",
    "plt.savefig(f'{run_figures_dir}/results/training_loss.png')"
   ]
  },
  {
   "cell_type": "code",
   "execution_count": 18,
   "metadata": {},
   "outputs": [
    {
     "data": {
      "image/png": "[encoded data removed]",
      "text/plain": [
       "<Figure size 432x288 with 1 Axes>"
      ]
     },
     "metadata": {
      "needs_background": "light"
     },
     "output_type": "display_data"
    }
   ],
   "source": [
    "plt.plot(lrs)\n",
    "plt.title('Learning rate')\n",
    "plt.xlabel('iteration')\n",
    "plt.ylabel('lr')\n",
    "plt.savefig(f'{run_figures_dir}/results/learning_rate.png')"
   ]
  },
  {
   "cell_type": "code",
   "execution_count": 19,
   "metadata": {},
   "outputs": [],
   "source": [
    "num_frames = 70\n",
    "start_freeze_frames = 10\n",
    "# filepaths\n",
    "fp_in = f\"{run_figures_dir}/learning_progress/epoch-*\"\n",
    "fp_out = run_gif_name\n",
    "\n",
    "img_list = [Image.open(f) for f in sorted(glob.glob(fp_in))][:num_frames]\n",
    "img_list = [img_list[0]]*start_freeze_frames + img_list\n",
    "imgs = iter(img_list)\n",
    "img = next(imgs)  # extract first image from iterator\n",
    "img.save(fp=fp_out, format='GIF', append_images=imgs,\n",
    "         save_all=True, duration=75, loop=0)"
   ]
  },
  {
   "cell_type": "code",
   "execution_count": 20,
   "metadata": {},
   "outputs": [],
   "source": [
    "with torch.no_grad():\n",
    "    param_losses = []\n",
    "    for p in param_linspace:\n",
    "        p_model = K.augmentation.ImageSequential(\n",
    "            kAugmentation(init_param=p)\n",
    "        )\n",
    "        for i, data in enumerate(dataloader): # calc for one batch\n",
    "            source_images, target_images = data\n",
    "            source_images, target_images = source_images, target_images\n",
    "            output_images = p_model(source_images)\n",
    "            loss = criterion(output_images, target_images)\n",
    "            param_losses.append(loss.item())\n",
    "            break\n",
    "    param_losses = np.array(param_losses)\n",
    "\n",
    "param_progress_idxs = []\n",
    "for p in param_progress:\n",
    "    idx_dist = np.apply_along_axis(lambda idx: abs(idx - p), axis=0, arr=param_linspace)\n",
    "    param_progress_idxs.append(np.argmin(idx_dist))"
   ]
  },
  {
   "cell_type": "code",
   "execution_count": 23,
   "metadata": {},
   "outputs": [],
   "source": [
    "idx_target_dist = np.apply_along_axis(lambda idx: abs(idx - target_param_val), axis=0, arr=param_linspace)\n",
    "target_param_idx = np.argmin(idx_target_dist)"
   ]
  },
  {
   "cell_type": "code",
   "execution_count": 37,
   "metadata": {},
   "outputs": [
    {
     "data": {
      "image/png": "[encoded data removed]",
      "text/plain": [
       "<Figure size 432x288 with 1 Axes>"
      ]
     },
     "metadata": {
      "needs_background": "light"
     },
     "output_type": "display_data"
    }
   ],
   "source": [
    "plt.plot(param_linspace, param_losses, zorder=5)\n",
    "plt.plot(param_linspace[param_progress_idxs], param_losses[param_progress_idxs], zorder=7)\n",
    "plt.scatter(x=param_linspace[param_progress_idxs[0]],y=param_losses[param_progress_idxs[0]], marker='*', c='r', s=100, zorder=9)\n",
    "plt.scatter(x=param_linspace[param_progress_idxs[-1]],y=param_losses[param_progress_idxs[-1]], marker='*', c='b', s=150, zorder=9)\n",
    "plt.scatter(x=param_linspace[target_param_idx],y=param_losses[target_param_idx], marker='*', c='lime', s=50, zorder=10)\n",
    "plt.savefig(f'{run_figures_dir}/results/loss_map.png')"
   ]
  },
  {
   "cell_type": "code",
   "execution_count": null,
   "metadata": {},
   "outputs": [],
   "source": []
  }
 ],
 "metadata": {
  "interpreter": {
   "hash": "814c7e8bc824e1f9fe29cd8a3526d92f457b4a20f58da30ef0e1d511b920b3e0"
  },
  "kernelspec": {
   "display_name": "Python 3.8.13 ('DADA')",
   "language": "python",
   "name": "python3"
  },
  "language_info": {
   "codemirror_mode": {
    "name": "ipython",
    "version": 3
   },
   "file_extension": ".py",
   "mimetype": "text/x-python",
   "name": "python",
   "nbconvert_exporter": "python",
   "pygments_lexer": "ipython3",
   "version": "3.8.13"
  },
  "orig_nbformat": 4
 },
 "nbformat": 4,
 "nbformat_minor": 2
}
